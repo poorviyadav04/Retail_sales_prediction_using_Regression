{
 "cells": [
  {
   "cell_type": "markdown",
   "id": "fec8ff96-5643-4b76-a35b-f9a9b98fa110",
   "metadata": {},
   "source": [
    "MACHINE LEARNING"
   ]
  },
  {
   "cell_type": "code",
   "execution_count": 1,
   "id": "caa441ef-c9e7-4c89-a656-511c9a48de46",
   "metadata": {},
   "outputs": [
    {
     "name": "stdout",
     "output_type": "stream",
     "text": [
      "Requirement already satisfied: openpyxl in c:\\users\\yadav\\anaconda3\\lib\\site-packages (3.1.5)\n",
      "Requirement already satisfied: et-xmlfile in c:\\users\\yadav\\anaconda3\\lib\\site-packages (from openpyxl) (1.1.0)\n"
     ]
    }
   ],
   "source": [
    "!pip install openpyxl"
   ]
  },
  {
   "cell_type": "code",
   "execution_count": 2,
   "id": "034ee515-9707-4b9d-a7cd-e5e7a7ddd0f6",
   "metadata": {},
   "outputs": [],
   "source": [
    "import pandas as pd\n",
    "import numpy as np\n",
    "from sklearn.model_selection import train_test_split\n",
    "from sklearn.metrics import mean_absolute_error, mean_squared_error, r2_score\n",
    "from statsmodels.stats.outliers_influence import variance_inflation_factor\n",
    "import statsmodels.api as sm\n",
    "import matplotlib.pyplot as plt\n",
    "import seaborn as sns"
   ]
  },
  {
   "cell_type": "code",
   "execution_count": 3,
   "id": "00b55028-46cc-4d8d-9795-efc4cb78ab7c",
   "metadata": {},
   "outputs": [
    {
     "data": {
      "text/html": [
       "<div>\n",
       "<style scoped>\n",
       "    .dataframe tbody tr th:only-of-type {\n",
       "        vertical-align: middle;\n",
       "    }\n",
       "\n",
       "    .dataframe tbody tr th {\n",
       "        vertical-align: top;\n",
       "    }\n",
       "\n",
       "    .dataframe thead th {\n",
       "        text-align: right;\n",
       "    }\n",
       "</style>\n",
       "<table border=\"1\" class=\"dataframe\">\n",
       "  <thead>\n",
       "    <tr style=\"text-align: right;\">\n",
       "      <th></th>\n",
       "      <th>Store ID</th>\n",
       "      <th>Pop class</th>\n",
       "      <th>Sales</th>\n",
       "      <th>Centre Type</th>\n",
       "      <th>Climate</th>\n",
       "      <th>Total Store Sq Ft</th>\n",
       "      <th>Sales Floor Sq Ft</th>\n",
       "      <th>Girls Sq Ft</th>\n",
       "      <th>Guys Sq Ft</th>\n",
       "      <th>Accessories Sq Ft</th>\n",
       "      <th>...</th>\n",
       "      <th>Poverty: In poverty</th>\n",
       "      <th>Male 14 to 35 CrYr</th>\n",
       "      <th>Female 14 to 35 CrYr</th>\n",
       "      <th>Total Pop 14 to 35 CrYr</th>\n",
       "      <th>Under 25 Low Income</th>\n",
       "      <th>Under 25 Med Income</th>\n",
       "      <th>Under 25 High Income</th>\n",
       "      <th>25 to 44 Low Income</th>\n",
       "      <th>25 to 44 Med Income</th>\n",
       "      <th>25 to 44 High Income</th>\n",
       "    </tr>\n",
       "  </thead>\n",
       "  <tbody>\n",
       "    <tr>\n",
       "      <th>0</th>\n",
       "      <td>1</td>\n",
       "      <td>Suburban</td>\n",
       "      <td>1345251.88</td>\n",
       "      <td>Outlet</td>\n",
       "      <td>Frigid</td>\n",
       "      <td>4735.0</td>\n",
       "      <td>4015.6</td>\n",
       "      <td>2032.3</td>\n",
       "      <td>947.7</td>\n",
       "      <td>747.5</td>\n",
       "      <td>...</td>\n",
       "      <td>1680</td>\n",
       "      <td>4444</td>\n",
       "      <td>4095</td>\n",
       "      <td>8539</td>\n",
       "      <td>74</td>\n",
       "      <td>285</td>\n",
       "      <td>7</td>\n",
       "      <td>683</td>\n",
       "      <td>1692</td>\n",
       "      <td>1291</td>\n",
       "    </tr>\n",
       "    <tr>\n",
       "      <th>1</th>\n",
       "      <td>2</td>\n",
       "      <td>Urban</td>\n",
       "      <td>1669906.40</td>\n",
       "      <td>Mall</td>\n",
       "      <td>Moderate</td>\n",
       "      <td>8068.0</td>\n",
       "      <td>7128.6</td>\n",
       "      <td>2735.2</td>\n",
       "      <td>1788.1</td>\n",
       "      <td>1251.3</td>\n",
       "      <td>...</td>\n",
       "      <td>21003</td>\n",
       "      <td>58486</td>\n",
       "      <td>52872</td>\n",
       "      <td>111358</td>\n",
       "      <td>1317</td>\n",
       "      <td>1396</td>\n",
       "      <td>358</td>\n",
       "      <td>11104</td>\n",
       "      <td>21417</td>\n",
       "      <td>20357</td>\n",
       "    </tr>\n",
       "    <tr>\n",
       "      <th>2</th>\n",
       "      <td>3</td>\n",
       "      <td>Urban</td>\n",
       "      <td>2528042.74</td>\n",
       "      <td>Outlet</td>\n",
       "      <td>Hot</td>\n",
       "      <td>4583.2</td>\n",
       "      <td>3961.7</td>\n",
       "      <td>2082.9</td>\n",
       "      <td>1030.2</td>\n",
       "      <td>551.7</td>\n",
       "      <td>...</td>\n",
       "      <td>107701</td>\n",
       "      <td>286481</td>\n",
       "      <td>275998</td>\n",
       "      <td>562479</td>\n",
       "      <td>14977</td>\n",
       "      <td>11109</td>\n",
       "      <td>2870</td>\n",
       "      <td>63228</td>\n",
       "      <td>120359</td>\n",
       "      <td>99407</td>\n",
       "    </tr>\n",
       "    <tr>\n",
       "      <th>3</th>\n",
       "      <td>4</td>\n",
       "      <td>Suburban</td>\n",
       "      <td>1281613.45</td>\n",
       "      <td>Outlet</td>\n",
       "      <td>Moderate</td>\n",
       "      <td>5772.3</td>\n",
       "      <td>4713.0</td>\n",
       "      <td>2140.1</td>\n",
       "      <td>1149.0</td>\n",
       "      <td>1162.2</td>\n",
       "      <td>...</td>\n",
       "      <td>23477</td>\n",
       "      <td>45764</td>\n",
       "      <td>43429</td>\n",
       "      <td>89193</td>\n",
       "      <td>5135</td>\n",
       "      <td>2426</td>\n",
       "      <td>512</td>\n",
       "      <td>10011</td>\n",
       "      <td>15485</td>\n",
       "      <td>9238</td>\n",
       "    </tr>\n",
       "    <tr>\n",
       "      <th>4</th>\n",
       "      <td>5</td>\n",
       "      <td>Urban</td>\n",
       "      <td>1278092.87</td>\n",
       "      <td>Outlet</td>\n",
       "      <td>Cold</td>\n",
       "      <td>3503.0</td>\n",
       "      <td>3239.0</td>\n",
       "      <td>1870.6</td>\n",
       "      <td>769.5</td>\n",
       "      <td>483.5</td>\n",
       "      <td>...</td>\n",
       "      <td>65968</td>\n",
       "      <td>157166</td>\n",
       "      <td>152880</td>\n",
       "      <td>310046</td>\n",
       "      <td>11249</td>\n",
       "      <td>6220</td>\n",
       "      <td>2311</td>\n",
       "      <td>32448</td>\n",
       "      <td>57978</td>\n",
       "      <td>74382</td>\n",
       "    </tr>\n",
       "  </tbody>\n",
       "</table>\n",
       "<p>5 rows × 37 columns</p>\n",
       "</div>"
      ],
      "text/plain": [
       "   Store ID Pop class       Sales Centre Type   Climate  Total Store Sq Ft  \\\n",
       "0         1  Suburban  1345251.88      Outlet    Frigid             4735.0   \n",
       "1         2     Urban  1669906.40        Mall  Moderate             8068.0   \n",
       "2         3     Urban  2528042.74      Outlet       Hot             4583.2   \n",
       "3         4  Suburban  1281613.45      Outlet  Moderate             5772.3   \n",
       "4         5     Urban  1278092.87      Outlet      Cold             3503.0   \n",
       "\n",
       "   Sales Floor Sq Ft  Girls Sq Ft  Guys Sq Ft  Accessories Sq Ft  ...  \\\n",
       "0             4015.6       2032.3       947.7              747.5  ...   \n",
       "1             7128.6       2735.2      1788.1             1251.3  ...   \n",
       "2             3961.7       2082.9      1030.2              551.7  ...   \n",
       "3             4713.0       2140.1      1149.0             1162.2  ...   \n",
       "4             3239.0       1870.6       769.5              483.5  ...   \n",
       "\n",
       "  Poverty: In poverty Male 14 to 35 CrYr Female 14 to 35 CrYr  \\\n",
       "0                1680               4444                 4095   \n",
       "1               21003              58486                52872   \n",
       "2              107701             286481               275998   \n",
       "3               23477              45764                43429   \n",
       "4               65968             157166               152880   \n",
       "\n",
       "  Total Pop 14 to 35 CrYr  Under 25 Low Income  Under 25 Med Income  \\\n",
       "0                    8539                   74                  285   \n",
       "1                  111358                 1317                 1396   \n",
       "2                  562479                14977                11109   \n",
       "3                   89193                 5135                 2426   \n",
       "4                  310046                11249                 6220   \n",
       "\n",
       "   Under 25 High Income  25 to 44 Low Income  25 to 44 Med Income  \\\n",
       "0                     7                  683                 1692   \n",
       "1                   358                11104                21417   \n",
       "2                  2870                63228               120359   \n",
       "3                   512                10011                15485   \n",
       "4                  2311                32448                57978   \n",
       "\n",
       "   25 to 44 High Income  \n",
       "0                  1291  \n",
       "1                 20357  \n",
       "2                 99407  \n",
       "3                  9238  \n",
       "4                 74382  \n",
       "\n",
       "[5 rows x 37 columns]"
      ]
     },
     "execution_count": 3,
     "metadata": {},
     "output_type": "execute_result"
    }
   ],
   "source": [
    "df = pd.read_excel(\"Modeling.xlsx\", engine='openpyxl')\n",
    "df.head()"
   ]
  },
  {
   "cell_type": "code",
   "execution_count": 4,
   "id": "14f40474-a080-4a41-9708-634b5d4275c7",
   "metadata": {},
   "outputs": [
    {
     "data": {
      "text/plain": [
       "Store ID                           0\n",
       "Pop class                          0\n",
       "Sales                              0\n",
       "Centre Type                        0\n",
       "Climate                            0\n",
       "Total Store Sq Ft                  0\n",
       "Sales Floor Sq Ft                  0\n",
       "Girls Sq Ft                        6\n",
       "Guys Sq Ft                         5\n",
       "Accessories Sq Ft                  6\n",
       "Guys Segmentation                  0\n",
       "Girls Segmentation                 0\n",
       "ChangeMade                         0\n",
       "ChangeDate                       412\n",
       "Population Est CrYr                0\n",
       "Transient Pop Est                  0\n",
       "Seasonal Pop Est                   0\n",
       "Sex Males CrYr                     0\n",
       "Sex Females CrYr                   0\n",
       "Age Average CrYr                   0\n",
       "Unemployment Rate                  0\n",
       "Average Household Income CrYr      0\n",
       "Householder under 25 years:        0\n",
       "Householder 25 to 44 years:        0\n",
       "Family Inc: Aggregate Average      0\n",
       "Per Capita Income CrYr             0\n",
       "Wealth: Average Household          0\n",
       "Poverty: In poverty                0\n",
       "Male 14 to 35 CrYr                 0\n",
       "Female 14 to 35 CrYr               0\n",
       "Total Pop 14 to 35 CrYr            0\n",
       "Under 25 Low Income                0\n",
       "Under 25 Med Income                0\n",
       "Under 25 High Income               0\n",
       "25 to 44 Low Income                0\n",
       "25 to 44 Med Income                0\n",
       "25 to 44 High Income               0\n",
       "dtype: int64"
      ]
     },
     "execution_count": 4,
     "metadata": {},
     "output_type": "execute_result"
    }
   ],
   "source": [
    "df.isnull().sum() "
   ]
  },
  {
   "cell_type": "code",
   "execution_count": 5,
   "id": "54feeb11-4f8c-4350-9a2a-4b0223f62658",
   "metadata": {},
   "outputs": [],
   "source": [
    "df = df.fillna(df.mean(numeric_only=True))"
   ]
  },
  {
   "cell_type": "code",
   "execution_count": 6,
   "id": "a5f1c6fc-123b-44c9-a073-6b6af39e4065",
   "metadata": {},
   "outputs": [
    {
     "data": {
      "text/plain": [
       "412"
      ]
     },
     "execution_count": 6,
     "metadata": {},
     "output_type": "execute_result"
    }
   ],
   "source": [
    "df.isnull().sum().sum()"
   ]
  },
  {
   "cell_type": "code",
   "execution_count": 7,
   "id": "43d07dad-ddf8-498b-adea-ca58eb861ba8",
   "metadata": {},
   "outputs": [],
   "source": [
    "X = df.drop(['Store ID', 'Sales'], axis=1)\n",
    "y = df['Sales']"
   ]
  },
  {
   "cell_type": "code",
   "execution_count": 8,
   "id": "e7ab2c44-3dc4-45bc-a82c-d5b8e6c5a13b",
   "metadata": {},
   "outputs": [],
   "source": [
    "X = pd.get_dummies(X, drop_first=True)\n",
    "X = X.astype({col: int for col in X.select_dtypes(include='bool').columns})\n",
    "X = X.astype('float64')"
   ]
  },
  {
   "cell_type": "code",
   "execution_count": 9,
   "id": "657715f9-b9b7-4b93-a664-843f056daf6c",
   "metadata": {},
   "outputs": [],
   "source": [
    "categorical_cols = X.select_dtypes(include=[\"object\"]).columns.tolist()"
   ]
  },
  {
   "cell_type": "code",
   "execution_count": 10,
   "id": "0043ab27-f795-4e3d-b713-3c6a22722184",
   "metadata": {},
   "outputs": [],
   "source": [
    "X_train,X_test,y_train,y_test = train_test_split(X, y,test_size=0.2,random_state=42)"
   ]
  },
  {
   "cell_type": "code",
   "execution_count": 11,
   "id": "f55d07b6-2f75-4ff2-8794-2fa4882500f0",
   "metadata": {},
   "outputs": [
    {
     "name": "stdout",
     "output_type": "stream",
     "text": [
      "                            OLS Regression Results                            \n",
      "==============================================================================\n",
      "Dep. Variable:                  Sales   R-squared:                       0.646\n",
      "Model:                            OLS   Adj. R-squared:                  0.485\n",
      "Method:                 Least Squares   F-statistic:                     4.013\n",
      "Date:                Sun, 21 Sep 2025   Prob (F-statistic):           1.26e-29\n",
      "Time:                        00:23:21   Log-Likelihood:                -7707.1\n",
      "No. Observations:                 552   AIC:                         1.576e+04\n",
      "Df Residuals:                     379   BIC:                         1.651e+04\n",
      "Df Model:                         172                                         \n",
      "Covariance Type:            nonrobust                                         \n",
      "==================================================================================================\n",
      "                                     coef    std err          t      P>|t|      [0.025      0.975]\n",
      "--------------------------------------------------------------------------------------------------\n",
      "const                           1.001e+06      6e+05      1.668      0.096   -1.79e+05    2.18e+06\n",
      "Total Store Sq Ft                185.7861     82.492      2.252      0.025      23.586     347.986\n",
      "Sales Floor Sq Ft                -77.7739     90.137     -0.863      0.389    -255.006      99.458\n",
      "Girls Sq Ft                       17.8108     84.608      0.211      0.833    -148.548     184.170\n",
      "Guys Sq Ft                       107.9116    116.699      0.925      0.356    -121.546     337.369\n",
      "Accessories Sq Ft               -133.7470    113.297     -1.181      0.239    -356.515      89.022\n",
      "Population Est CrYr            -2.748e+04   3.55e+04     -0.774      0.439   -9.73e+04    4.23e+04\n",
      "Transient Pop Est                  5.6487      2.700      2.092      0.037       0.341      10.957\n",
      "Seasonal Pop Est                   0.0201      3.300      0.006      0.995      -6.469       6.510\n",
      "Sex Males CrYr                  2.747e+04   3.55e+04      0.774      0.439   -4.23e+04    9.73e+04\n",
      "Sex Females CrYr                2.748e+04   3.55e+04      0.774      0.439   -4.23e+04    9.73e+04\n",
      "Age Average CrYr                1767.3033   1.07e+04      0.166      0.869   -1.92e+04    2.27e+04\n",
      "Unemployment Rate               1972.5597   1.42e+04      0.139      0.889   -2.59e+04    2.98e+04\n",
      "Average Household Income CrYr     10.2973      4.411      2.334      0.020       1.624      18.971\n",
      "Householder under 25 years:      1.55e+04   1.56e+04      0.992      0.322   -1.52e+04    4.62e+04\n",
      "Householder 25 to 44 years:    -4455.3046   1.47e+04     -0.304      0.761   -3.33e+04    2.44e+04\n",
      "Family Inc: Aggregate Average   -2.26e-06   4.76e-05     -0.048      0.962   -9.58e-05    9.12e-05\n",
      "Per Capita Income CrYr           -26.6226     11.232     -2.370      0.018     -48.708      -4.538\n",
      "Wealth: Average Household         -0.0002      0.002     -0.119      0.905      -0.004       0.003\n",
      "Poverty: In poverty                9.6879     14.199      0.682      0.495     -18.231      37.606\n",
      "Male 14 to 35 CrYr                 1.4769     15.878      0.093      0.926     -29.742      32.696\n",
      "Female 14 to 35 CrYr               0.0367     16.197      0.002      0.998     -31.811      31.885\n",
      "Total Pop 14 to 35 CrYr            1.5140      2.188      0.692      0.489      -2.788       5.816\n",
      "Under 25 Low Income             -1.55e+04   1.56e+04     -0.992      0.322   -4.62e+04    1.52e+04\n",
      "Under 25 Med Income            -1.547e+04   1.56e+04     -0.990      0.323   -4.62e+04    1.53e+04\n",
      "Under 25 High Income           -1.562e+04   1.56e+04     -0.999      0.318   -4.64e+04    1.51e+04\n",
      "25 to 44 Low Income             4448.9511   1.47e+04      0.304      0.762   -2.44e+04    3.33e+04\n",
      "25 to 44 Med Income             4472.3405   1.47e+04      0.305      0.760   -2.43e+04    3.33e+04\n",
      "25 to 44 High Income            4462.1216   1.47e+04      0.305      0.761   -2.43e+04    3.33e+04\n",
      "Pop class_Suburban             -9.205e+04   8.01e+04     -1.149      0.251    -2.5e+05    6.54e+04\n",
      "Pop class_Urban                  6.86e+04   7.17e+04      0.957      0.339   -7.24e+04     2.1e+05\n",
      "Centre Type_Outlet              2.066e+05   8.89e+04      2.326      0.021    3.19e+04    3.81e+05\n",
      "Centre Type_Strip              -1.065e+05   4.28e+04     -2.485      0.013   -1.91e+05   -2.22e+04\n",
      "Climate_Frigid                 -2.008e+04   7.52e+04     -0.267      0.789   -1.68e+05    1.28e+05\n",
      "Climate_Hot                     4.454e+04   6.61e+04      0.674      0.501   -8.54e+04    1.74e+05\n",
      "Climate_Moderate                4.564e+04      5e+04      0.912      0.362   -5.27e+04    1.44e+05\n",
      "Climate_Warm                    3.418e+04   5.44e+04      0.628      0.530   -7.29e+04    1.41e+05\n",
      "Guys Segmentation_On Trend     -1.089e+05   2.02e+05     -0.539      0.590   -5.06e+05    2.89e+05\n",
      "Guys Segmentation_On trend     -1.729e+05   2.47e+05     -0.701      0.484   -6.58e+05    3.12e+05\n",
      "Girls Segmentation_On Trend     -9.54e+04   2.02e+05     -0.472      0.637   -4.92e+05    3.02e+05\n",
      "ChangeMade_no change           -2.927e+05   3.86e+05     -0.757      0.449   -1.05e+06    4.67e+05\n",
      "ChangeMade_relocation           3.828e+04   1.13e+05      0.340      0.734   -1.83e+05     2.6e+05\n",
      "ChangeMade_remodel              1.092e+05   2.86e+05      0.382      0.703   -4.53e+05    6.71e+05\n",
      "ChangeDate_2007-02-08 00:00:00    -3.5394      5.489     -0.645      0.519     -14.333       7.254\n",
      "ChangeDate_2007-03-13 00:00:00 -5.066e+05   5.27e+05     -0.961      0.337   -1.54e+06     5.3e+05\n",
      "ChangeDate_2007-07-13 00:00:00 -7.563e+05   5.73e+05     -1.319      0.188   -1.88e+06    3.71e+05\n",
      "ChangeDate_2007-07-19 00:00:00 -6.831e+05   5.17e+05     -1.322      0.187    -1.7e+06    3.33e+05\n",
      "ChangeDate_2008-02-26 00:00:00 -2.397e+05   5.14e+05     -0.467      0.641   -1.25e+06     7.7e+05\n",
      "ChangeDate_2008-06-24 00:00:00 -2.259e+05   5.18e+05     -0.436      0.663   -1.24e+06    7.93e+05\n",
      "ChangeDate_2008-06-25 00:00:00  -5.17e+05   5.04e+05     -1.025      0.306   -1.51e+06    4.75e+05\n",
      "ChangeDate_2008-10-24 00:00:00 -1.927e+05   5.12e+05     -0.377      0.707    -1.2e+06    8.13e+05\n",
      "ChangeDate_2008-11-17 00:00:00  9.847e+04   5.21e+05      0.189      0.850   -9.25e+05    1.12e+06\n",
      "ChangeDate_2009-02-12 00:00:00 -9.442e+04   5.07e+05     -0.186      0.852   -1.09e+06    9.03e+05\n",
      "ChangeDate_2009-03-12 00:00:00 -3.371e+05    5.1e+05     -0.661      0.509   -1.34e+06    6.65e+05\n",
      "ChangeDate_2009-06-04 00:00:00   -7.8e+05   5.83e+05     -1.337      0.182   -1.93e+06    3.67e+05\n",
      "ChangeDate_2009-09-17 00:00:00     4.2081      6.210      0.678      0.498      -8.002      16.418\n",
      "ChangeDate_2009-09-18 00:00:00 -4.944e+05   5.09e+05     -0.972      0.332   -1.49e+06    5.06e+05\n",
      "ChangeDate_2009-10-01 00:00:00 -2.807e+05   4.57e+05     -0.614      0.540   -1.18e+06    6.19e+05\n",
      "ChangeDate_2010-05-06 00:00:00 -7.368e+05   5.06e+05     -1.456      0.146   -1.73e+06    2.59e+05\n",
      "ChangeDate_2010-06-24 00:00:00 -3161.4980   5.81e+05     -0.005      0.996   -1.15e+06    1.14e+06\n",
      "ChangeDate_2010-07-22 00:00:00    -9.7693      7.833     -1.247      0.213     -25.171       5.632\n",
      "ChangeDate_2010-09-02 00:00:00    -3.1728      7.224     -0.439      0.661     -17.377      11.032\n",
      "ChangeDate_2010-10-07 00:00:00 -6.609e+05   4.62e+05     -1.431      0.153   -1.57e+06    2.47e+05\n",
      "ChangeDate_2010-10-14 00:00:00 -6.152e+05      5e+05     -1.230      0.219    -1.6e+06    3.68e+05\n",
      "ChangeDate_2011-02-10 00:00:00  -6.54e+05    5.1e+05     -1.283      0.200   -1.66e+06    3.48e+05\n",
      "ChangeDate_2011-02-25 00:00:00 -3.943e+05   5.07e+05     -0.778      0.437   -1.39e+06    6.02e+05\n",
      "ChangeDate_2011-03-31 00:00:00 -4.599e+05   5.04e+05     -0.913      0.362   -1.45e+06     5.3e+05\n",
      "ChangeDate_2011-04-07 00:00:00 -3.237e+04   5.17e+05     -0.063      0.950   -1.05e+06    9.83e+05\n",
      "ChangeDate_2011-04-29 00:00:00 -5.478e+05   5.07e+05     -1.080      0.281   -1.55e+06     4.5e+05\n",
      "ChangeDate_2011-06-23 00:00:00 -4.128e+05   3.95e+05     -1.045      0.297   -1.19e+06    3.64e+05\n",
      "ChangeDate_2011-06-30 00:00:00     4.4125      8.242      0.535      0.593     -11.793      20.618\n",
      "ChangeDate_2011-09-29 00:00:00 -5.169e+05   5.07e+05     -1.019      0.309   -1.51e+06    4.81e+05\n",
      "ChangeDate_2011-10-06 00:00:00 -1.748e+05   4.87e+05     -0.359      0.720   -1.13e+06    7.83e+05\n",
      "ChangeDate_2011-10-13 00:00:00    -2.6787      9.241     -0.290      0.772     -20.849      15.491\n",
      "ChangeDate_2011-11-03 00:00:00 -7.181e+05   5.09e+05     -1.412      0.159   -1.72e+06    2.82e+05\n",
      "ChangeDate_2012-03-29 00:00:00  3.524e+05   5.24e+05      0.673      0.502   -6.77e+05    1.38e+06\n",
      "ChangeDate_2012-04-13 00:00:00  7.102e+04   4.34e+05      0.164      0.870   -7.81e+05    9.24e+05\n",
      "ChangeDate_2012-05-17 00:00:00 -6.182e+05   5.09e+05     -1.215      0.225   -1.62e+06    3.82e+05\n",
      "ChangeDate_2012-07-19 00:00:00 -5.025e+05   5.15e+05     -0.975      0.330   -1.52e+06    5.11e+05\n",
      "ChangeDate_2012-08-30 00:00:00 -5.436e+05   5.08e+05     -1.069      0.286   -1.54e+06    4.56e+05\n",
      "ChangeDate_2012-09-27 00:00:00 -5.749e+05   4.99e+05     -1.152      0.250   -1.56e+06    4.06e+05\n",
      "ChangeDate_2012-10-19 00:00:00 -1.358e+05   5.07e+05     -0.268      0.789   -1.13e+06    8.62e+05\n",
      "ChangeDate_2012-10-25 00:00:00 -1.382e+05   5.27e+05     -0.262      0.793   -1.17e+06    8.98e+05\n",
      "ChangeDate_2012-11-08 00:00:00 -3.162e+05   4.46e+05     -0.708      0.479   -1.19e+06    5.61e+05\n",
      "ChangeDate_2013-03-15 00:00:00 -6.331e+05   5.21e+05     -1.216      0.225   -1.66e+06     3.9e+05\n",
      "ChangeDate_2013-05-09 00:00:00 -6.846e+05   5.17e+05     -1.324      0.186    -1.7e+06    3.32e+05\n",
      "ChangeDate_2013-08-22 00:00:00     8.5353      9.541      0.895      0.372     -10.224      27.294\n",
      "ChangeDate_2013-09-26 00:00:00  -3.93e+05   5.29e+05     -0.743      0.458   -1.43e+06    6.47e+05\n",
      "ChangeDate_2013-10-31 00:00:00 -5.843e+05   5.12e+05     -1.141      0.255   -1.59e+06    4.23e+05\n",
      "ChangeDate_2013-11-07 00:00:00 -6.187e+05   4.38e+05     -1.414      0.158   -1.48e+06    2.42e+05\n",
      "ChangeDate_2014-05-22 00:00:00 -6.656e+05   5.08e+05     -1.311      0.191   -1.66e+06    3.33e+05\n",
      "ChangeDate_2014-06-05 00:00:00 -7.308e+05   5.09e+05     -1.435      0.152   -1.73e+06    2.71e+05\n",
      "ChangeDate_2014-06-13 00:00:00 -3.913e+05   5.09e+05     -0.769      0.442   -1.39e+06    6.09e+05\n",
      "ChangeDate_2014-07-03 00:00:00 -4.536e+05   4.63e+05     -0.980      0.328   -1.36e+06    4.57e+05\n",
      "ChangeDate_2014-07-31 00:00:00    -0.2891      8.290     -0.035      0.972     -16.590      16.012\n",
      "ChangeDate_2014-10-02 00:00:00    -0.1992      9.422     -0.021      0.983     -18.725      18.326\n",
      "ChangeDate_2014-10-23 00:00:00 -7.197e+04   5.06e+05     -0.142      0.887   -1.07e+06    9.22e+05\n",
      "ChangeDate_2014-10-30 00:00:00  2.066e+04   5.05e+05      0.041      0.967   -9.73e+05    1.01e+06\n",
      "ChangeDate_2014-11-06 00:00:00 -5.097e+05   5.37e+05     -0.949      0.343   -1.57e+06    5.46e+05\n",
      "ChangeDate_2014-11-13 00:00:00  2.057e+05    5.1e+05      0.404      0.687   -7.96e+05    1.21e+06\n",
      "ChangeDate_2014-11-23 00:00:00     4.7797      7.706      0.620      0.535     -10.372      19.931\n",
      "ChangeDate_2015-03-26 00:00:00    1.3e+05   5.08e+05      0.256      0.798   -8.69e+05    1.13e+06\n",
      "ChangeDate_2015-04-16 00:00:00 -7.523e+05   5.14e+05     -1.462      0.144   -1.76e+06    2.59e+05\n",
      "ChangeDate_2015-04-23 00:00:00   6.27e+05   5.21e+05      1.203      0.230   -3.98e+05    1.65e+06\n",
      "ChangeDate_2015-04-29 00:00:00 -9.268e+04   4.67e+05     -0.199      0.843   -1.01e+06    8.25e+05\n",
      "ChangeDate_2015-04-30 00:00:00 -4.344e+05   4.47e+05     -0.973      0.331   -1.31e+06    4.44e+05\n",
      "ChangeDate_2015-05-20 00:00:00 -1.264e+05   5.24e+05     -0.241      0.810   -1.16e+06    9.04e+05\n",
      "ChangeDate_2015-05-28 00:00:00 -1.849e+05   5.19e+05     -0.356      0.722   -1.21e+06    8.36e+05\n",
      "ChangeDate_2015-05-29 00:00:00    21.3462     11.383      1.875      0.062      -1.035      43.728\n",
      "ChangeDate_2015-07-23 00:00:00 -7.157e+05    5.1e+05     -1.403      0.161   -1.72e+06    2.87e+05\n",
      "ChangeDate_2015-07-28 00:00:00  -2.18e+05   5.25e+05     -0.415      0.678   -1.25e+06    8.15e+05\n",
      "ChangeDate_2015-07-30 00:00:00  2.692e+04   5.22e+05      0.052      0.959   -9.99e+05    1.05e+06\n",
      "ChangeDate_2015-08-13 00:00:00 -3.053e+05   4.65e+05     -0.656      0.512   -1.22e+06     6.1e+05\n",
      "ChangeDate_2015-08-19 00:00:00  2.544e+05    5.2e+05      0.490      0.625   -7.67e+05    1.28e+06\n",
      "ChangeDate_2015-09-03 00:00:00  1.034e+05   4.46e+05      0.232      0.817   -7.74e+05    9.81e+05\n",
      "ChangeDate_2015-09-17 00:00:00 -6.601e+05   4.46e+05     -1.479      0.140   -1.54e+06    2.17e+05\n",
      "ChangeDate_2015-09-24 00:00:00 -1.524e+05   4.51e+05     -0.338      0.736   -1.04e+06    7.35e+05\n",
      "ChangeDate_2015-09-29 00:00:00    -1.4976     11.386     -0.132      0.895     -23.886      20.891\n",
      "ChangeDate_2015-09-30 00:00:00  7.839e+04   5.23e+05      0.150      0.881   -9.51e+05    1.11e+06\n",
      "ChangeDate_2015-10-01 00:00:00 -2.239e+05   5.07e+05     -0.441      0.659   -1.22e+06    7.74e+05\n",
      "ChangeDate_2015-10-08 00:00:00  3.926e+05    4.5e+05      0.873      0.383   -4.91e+05    1.28e+06\n",
      "ChangeDate_2015-10-15 00:00:00 -1.012e+04   5.18e+05     -0.020      0.984   -1.03e+06    1.01e+06\n",
      "ChangeDate_2015-10-16 00:00:00  2.841e+05   5.21e+05      0.545      0.586    -7.4e+05    1.31e+06\n",
      "ChangeDate_2015-10-22 00:00:00 -3.142e+04   5.13e+05     -0.061      0.951   -1.04e+06    9.77e+05\n",
      "ChangeDate_2015-10-24 00:00:00  2.433e+05    5.2e+05      0.468      0.640    -7.8e+05    1.27e+06\n",
      "ChangeDate_2015-10-29 00:00:00 -3.861e+04   4.13e+05     -0.094      0.925    -8.5e+05    7.73e+05\n",
      "ChangeDate_2015-10-30 00:00:00  4.091e+05   5.07e+05      0.808      0.420   -5.87e+05    1.41e+06\n",
      "ChangeDate_2015-11-04 00:00:00 -1.504e+05   4.57e+05     -0.329      0.742   -1.05e+06    7.48e+05\n",
      "ChangeDate_2015-11-05 00:00:00    -9.5402      9.148     -1.043      0.298     -27.527       8.447\n",
      "ChangeDate_2015-11-07 00:00:00  -4.26e+05   5.13e+05     -0.830      0.407   -1.43e+06    5.83e+05\n",
      "ChangeDate_2015-11-11 00:00:00 -3.781e+05   4.38e+05     -0.863      0.389   -1.24e+06    4.84e+05\n",
      "ChangeDate_2015-11-12 00:00:00 -3.361e+05   4.13e+05     -0.814      0.416   -1.15e+06    4.76e+05\n",
      "ChangeDate_2015-11-18 00:00:00 -3.351e+05   5.25e+05     -0.638      0.524   -1.37e+06    6.97e+05\n",
      "ChangeDate_2015-11-20 00:00:00  2.391e+05   5.34e+05      0.447      0.655   -8.12e+05    1.29e+06\n",
      "ChangeDate_2015-12-03 00:00:00 -3.909e+05   5.07e+05     -0.771      0.441   -1.39e+06    6.06e+05\n",
      "ChangeDate_2016-02-04 00:00:00 -4.242e+05   5.07e+05     -0.836      0.404   -1.42e+06    5.73e+05\n",
      "ChangeDate_2016-02-11 00:00:00  3.537e+05   5.13e+05      0.689      0.491   -6.55e+05    1.36e+06\n",
      "ChangeDate_2016-03-03 00:00:00 -6.753e+05   5.19e+05     -1.302      0.194    -1.7e+06    3.44e+05\n",
      "ChangeDate_2016-03-10 00:00:00  -4.54e+05   4.33e+05     -1.049      0.295   -1.31e+06    3.97e+05\n",
      "ChangeDate_2016-03-16 00:00:00 -6.923e+04   5.19e+05     -0.133      0.894   -1.09e+06    9.52e+05\n",
      "ChangeDate_2016-03-21 00:00:00 -3.771e+05   5.24e+05     -0.719      0.472   -1.41e+06    6.53e+05\n",
      "ChangeDate_2016-03-23 00:00:00 -5.276e+05   5.26e+05     -1.003      0.316   -1.56e+06    5.07e+05\n",
      "ChangeDate_2016-03-24 00:00:00  2.944e+04   4.24e+05      0.069      0.945   -8.04e+05    8.63e+05\n",
      "ChangeDate_2016-04-07 00:00:00  -4.62e+05   5.12e+05     -0.903      0.367   -1.47e+06    5.45e+05\n",
      "ChangeDate_2016-04-14 00:00:00 -3.364e+05   4.47e+05     -0.752      0.452   -1.22e+06    5.43e+05\n",
      "ChangeDate_2016-04-21 00:00:00 -3.738e+05   4.62e+05     -0.810      0.419   -1.28e+06    5.34e+05\n",
      "ChangeDate_2016-05-12 00:00:00     7.9915     10.429      0.766      0.444     -12.515      28.498\n",
      "ChangeDate_2016-05-19 00:00:00 -1.787e+05    5.2e+05     -0.344      0.731    -1.2e+06    8.43e+05\n",
      "ChangeDate_2016-05-25 00:00:00  1.051e+05   5.26e+05      0.200      0.842   -9.28e+05    1.14e+06\n",
      "ChangeDate_2016-05-26 00:00:00 -9.953e+04   5.17e+05     -0.192      0.847   -1.12e+06    9.17e+05\n",
      "ChangeDate_2016-06-08 00:00:00 -7.661e+05   5.07e+05     -1.511      0.132   -1.76e+06    2.31e+05\n",
      "ChangeDate_2016-06-09 00:00:00 -4996.0534   4.32e+05     -0.012      0.991   -8.54e+05    8.44e+05\n",
      "ChangeDate_2016-06-16 00:00:00  4.916e+05   5.11e+05      0.963      0.336   -5.12e+05     1.5e+06\n",
      "ChangeDate_2016-06-23 00:00:00 -3.349e+05   5.23e+05     -0.641      0.522   -1.36e+06    6.93e+05\n",
      "ChangeDate_2016-06-30 00:00:00 -6.721e+05   4.47e+05     -1.504      0.133   -1.55e+06    2.07e+05\n",
      "ChangeDate_2016-07-14 00:00:00 -5.833e+05   4.49e+05     -1.298      0.195   -1.47e+06       3e+05\n",
      "ChangeDate_2016-07-21 00:00:00 -6.468e+05   5.08e+05     -1.272      0.204   -1.65e+06    3.53e+05\n",
      "ChangeDate_2016-07-27 00:00:00  1.107e+05   5.18e+05      0.214      0.831   -9.07e+05    1.13e+06\n",
      "ChangeDate_2016-07-28 00:00:00 -2.254e+04   4.24e+05     -0.053      0.958   -8.55e+05     8.1e+05\n",
      "ChangeDate_2016-08-04 00:00:00 -1.827e+05   4.05e+05     -0.451      0.652   -9.78e+05    6.13e+05\n",
      "ChangeDate_2016-08-11 00:00:00 -3.455e+05    5.1e+05     -0.678      0.498   -1.35e+06    6.57e+05\n",
      "ChangeDate_2016-08-25 00:00:00 -3.561e+05   5.11e+05     -0.696      0.487   -1.36e+06     6.5e+05\n",
      "ChangeDate_2016-09-01 00:00:00     5.2255     10.891      0.480      0.632     -16.190      26.641\n",
      "ChangeDate_2016-09-22 00:00:00 -9.328e+04   5.06e+05     -0.184      0.854   -1.09e+06    9.01e+05\n",
      "ChangeDate_2016-09-29 00:00:00    11.9204     10.916      1.092      0.276      -9.544      33.384\n",
      "ChangeDate_2016-10-05 00:00:00    -2.1259     10.916     -0.195      0.846     -23.590      19.338\n",
      "ChangeDate_2016-10-06 00:00:00 -3.461e+05   5.14e+05     -0.674      0.501   -1.36e+06    6.64e+05\n",
      "ChangeDate_2016-10-13 00:00:00 -2.227e+05   4.63e+05     -0.481      0.631   -1.13e+06    6.88e+05\n",
      "ChangeDate_2016-10-20 00:00:00  5.749e+04   5.12e+05      0.112      0.911    -9.5e+05    1.06e+06\n",
      "ChangeDate_2016-10-27 00:00:00 -2.965e+05    4.5e+05     -0.659      0.510   -1.18e+06    5.88e+05\n",
      "ChangeDate_2016-11-03 00:00:00    -7.1414     10.931     -0.653      0.514     -28.635      14.353\n",
      "ChangeDate_2016-11-05 00:00:00 -4.694e+05   5.27e+05     -0.891      0.374   -1.51e+06    5.67e+05\n",
      "ChangeDate_2016-11-09 00:00:00 -4.933e+05      5e+05     -0.986      0.325   -1.48e+06     4.9e+05\n",
      "ChangeDate_2016-11-10 00:00:00 -2.969e+05   4.07e+05     -0.730      0.466    -1.1e+06    5.03e+05\n",
      "ChangeDate_2016-11-17 00:00:00   1.75e+05   5.12e+05      0.342      0.733   -8.32e+05    1.18e+06\n",
      "ChangeDate_2016-11-18 00:00:00     1.7154     10.804      0.159      0.874     -19.527      22.958\n",
      "ChangeDate_2016-12-08 00:00:00 -9.517e+04   5.07e+05     -0.188      0.851   -1.09e+06    9.02e+05\n",
      "ChangeDate_2017-03-23 00:00:00     9.7532     10.916      0.893      0.372     -11.711      31.217\n",
      "ChangeDate_2017-05-02 00:00:00 -6.647e+05   5.25e+05     -1.266      0.206    -1.7e+06    3.67e+05\n",
      "ChangeDate_2017-05-03 00:00:00 -4.212e+05   5.74e+05     -0.734      0.463   -1.55e+06    7.07e+05\n",
      "ChangeDate_2017-05-09 00:00:00 -3.321e+05   5.81e+05     -0.571      0.568   -1.48e+06    8.11e+05\n",
      "ChangeDate_2017-05-11 00:00:00  -2.45e+05   5.12e+05     -0.479      0.632   -1.25e+06    7.61e+05\n",
      "ChangeDate_2017-05-18 00:00:00 -7.559e+05   5.09e+05     -1.486      0.138   -1.76e+06    2.44e+05\n",
      "ChangeDate_2017-05-25 00:00:00 -4.433e+05   5.04e+05     -0.879      0.380   -1.43e+06    5.48e+05\n",
      "ChangeDate_2017-06-13 00:00:00 -6.207e+05   5.77e+05     -1.076      0.283   -1.75e+06    5.14e+05\n",
      "ChangeDate_2017-11-24 00:00:00 -6.905e+05   5.88e+05     -1.175      0.241   -1.85e+06    4.65e+05\n",
      "ChangeDate_2018-01-25 00:00:00  2.265e+05   4.34e+05      0.522      0.602   -6.27e+05    1.08e+06\n",
      "ChangeDate_2018-02-03 00:00:00 -3.128e+05   5.06e+05     -0.619      0.537   -1.31e+06    6.82e+05\n",
      "ChangeDate_2018-04-19 00:00:00 -1.618e+05   5.18e+05     -0.313      0.755   -1.18e+06    8.56e+05\n",
      "ChangeDate_2018-05-10 00:00:00  -3.81e+05   5.05e+05     -0.755      0.451   -1.37e+06    6.11e+05\n",
      "ChangeDate_2019-04-04 00:00:00  2.903e+05   5.05e+05      0.575      0.566   -7.02e+05    1.28e+06\n",
      "ChangeDate_2019-09-12 00:00:00 -6.703e+04   4.63e+05     -0.145      0.885   -9.77e+05    8.43e+05\n",
      "ChangeDate_2019-09-25 00:00:00 -3.769e-05      0.000     -0.343      0.731      -0.000       0.000\n",
      "ChangeDate_2020-01-23 00:00:00 -4.134e+05   5.35e+05     -0.773      0.440   -1.46e+06    6.38e+05\n",
      "ChangeDate_00:00:00            -1.619e+05   4.07e+05     -0.398      0.691   -9.62e+05    6.38e+05\n",
      "==============================================================================\n",
      "Omnibus:                      119.916   Durbin-Watson:                   1.911\n",
      "Prob(Omnibus):                  0.000   Jarque-Bera (JB):              391.731\n",
      "Skew:                           1.000   Prob(JB):                     8.64e-86\n",
      "Kurtosis:                       6.610   Cond. No.                     4.38e+26\n",
      "==============================================================================\n",
      "\n",
      "Notes:\n",
      "[1] Standard Errors assume that the covariance matrix of the errors is correctly specified.\n",
      "[2] The smallest eigenvalue is 6.57e-31. This might indicate that there are\n",
      "strong multicollinearity problems or that the design matrix is singular.\n"
     ]
    }
   ],
   "source": [
    "X_train_sm = sm.add_constant(X_train)\n",
    "X_test_sm = sm.add_constant(X_test)\n",
    "\n",
    "\n",
    "ols_model = sm.OLS(y_train, X_train_sm).fit()\n",
    "print(ols_model.summary())\n"
   ]
  },
  {
   "cell_type": "code",
   "execution_count": 12,
   "id": "2014f761-b73e-430c-8630-546c39e5b677",
   "metadata": {},
   "outputs": [
    {
     "name": "stdout",
     "output_type": "stream",
     "text": [
      "float64    194\n",
      "Name: count, dtype: int64\n"
     ]
    }
   ],
   "source": [
    "print(X.dtypes.value_counts())"
   ]
  },
  {
   "cell_type": "markdown",
   "id": "4dc6fe37-77fb-4b31-bcda-73d8e5f5abf7",
   "metadata": {},
   "source": [
    "Key Drivers"
   ]
  },
  {
   "cell_type": "code",
   "execution_count": 13,
   "id": "ec60ee2a-d41b-49d6-9d4e-bd9cf180c36f",
   "metadata": {},
   "outputs": [
    {
     "name": "stdout",
     "output_type": "stream",
     "text": [
      "                                 OLS Regression Results                                \n",
      "=======================================================================================\n",
      "Dep. Variable:                  Sales   R-squared (uncentered):                   0.944\n",
      "Model:                            OLS   Adj. R-squared (uncentered):              0.944\n",
      "Method:                 Least Squares   F-statistic:                              1546.\n",
      "Date:                Sun, 21 Sep 2025   Prob (F-statistic):                        0.00\n",
      "Time:                        00:23:21   Log-Likelihood:                         -7884.6\n",
      "No. Observations:                 552   AIC:                                  1.578e+04\n",
      "Df Residuals:                     546   BIC:                                  1.581e+04\n",
      "Df Model:                           6                                                  \n",
      "Covariance Type:            nonrobust                                                  \n",
      "=================================================================================================\n",
      "                                    coef    std err          t      P>|t|      [0.025      0.975]\n",
      "-------------------------------------------------------------------------------------------------\n",
      "Total Store Sq Ft               193.6725      9.450     20.496      0.000     175.111     212.234\n",
      "Transient Pop Est                 7.2196      1.531      4.717      0.000       4.213      10.226\n",
      "Average Household Income CrYr     8.9975      2.566      3.507      0.000       3.958      14.037\n",
      "Per Capita Income CrYr          -12.0757      6.588     -1.833      0.067     -25.017       0.866\n",
      "Centre Type_Outlet             1.273e+05   6.18e+04      2.059      0.040    5868.608    2.49e+05\n",
      "Centre Type_Strip             -6.851e+04   3.41e+04     -2.008      0.045   -1.36e+05   -1499.339\n",
      "==============================================================================\n",
      "Omnibus:                       43.144   Durbin-Watson:                   1.950\n",
      "Prob(Omnibus):                  0.000   Jarque-Bera (JB):               52.646\n",
      "Skew:                           0.673   Prob(JB):                     3.70e-12\n",
      "Kurtosis:                       3.690   Cond. No.                     2.94e+05\n",
      "==============================================================================\n",
      "\n",
      "Notes:\n",
      "[1] R² is computed without centering (uncentered) since the model does not contain a constant.\n",
      "[2] Standard Errors assume that the covariance matrix of the errors is correctly specified.\n",
      "[3] The condition number is large, 2.94e+05. This might indicate that there are\n",
      "strong multicollinearity or other numerical problems.\n"
     ]
    }
   ],
   "source": [
    "significant_features = ols_model.pvalues[ols_model.pvalues < 0.05].index.tolist()\n",
    "X_train_sig = X_train_sm[significant_features]\n",
    "final_model = sm.OLS(y_train, X_train_sig).fit()\n",
    "print(final_model.summary())"
   ]
  },
  {
   "cell_type": "markdown",
   "id": "67e6dd51-7352-4cfb-b3ae-6eed4b5d2a59",
   "metadata": {},
   "source": [
    "These features had p-value < 0.05:\n",
    "1)Total Store Sq Ft\n",
    "2)Transient Pop Est\n",
    "3)Average Household Income CrYr\n",
    "4)Centre Type_Outlet\n",
    "5)Centre Type_Strip"
   ]
  },
  {
   "cell_type": "markdown",
   "id": "28586a67-7bb7-4fbd-ba8f-49cdfc9abacb",
   "metadata": {},
   "source": [
    "Detecting Multicollinearity"
   ]
  },
  {
   "cell_type": "code",
   "execution_count": 14,
   "id": "9499fc95-bc6a-41e4-adce-b0823e281db9",
   "metadata": {},
   "outputs": [
    {
     "name": "stdout",
     "output_type": "stream",
     "text": [
      "                         Feature         VIF\n",
      "3         Per Capita Income CrYr  126.387017\n",
      "2  Average Household Income CrYr  126.039498\n",
      "0              Total Store Sq Ft   13.889183\n",
      "5              Centre Type_Strip    1.657322\n",
      "4             Centre Type_Outlet    1.492241\n",
      "1              Transient Pop Est    1.478093\n"
     ]
    }
   ],
   "source": [
    "X_vif=X_train_sig.drop(columns='const', errors='ignore')\n",
    "vif_df = pd.DataFrame()\n",
    "vif_df[\"Feature\"] = X_vif.columns\n",
    "vif_df[\"VIF\"] = [variance_inflation_factor(X_vif.values, i) for i in range(X_vif.shape[1])]\n",
    "print(vif_df.sort_values(by=\"VIF\", ascending=False))\n"
   ]
  },
  {
   "cell_type": "markdown",
   "id": "a84f31c5-0551-46e3-bba4-73e3a3848386",
   "metadata": {},
   "source": [
    "Residual Analysis"
   ]
  },
  {
   "cell_type": "code",
   "execution_count": 15,
   "id": "d48cbaa2-ba1e-4132-9224-2aa3324c9072",
   "metadata": {},
   "outputs": [
    {
     "data": {
      "image/png": "[encoded data removed]",
      "text/plain": [
       "<Figure size 640x480 with 1 Axes>"
      ]
     },
     "metadata": {},
     "output_type": "display_data"
    }
   ],
   "source": [
    "y_train_pred = final_model.predict(X_train_sig)\n",
    "residuals = y_train - y_train_pred\n",
    "\n",
    "sns.histplot(residuals, kde=True)\n",
    "plt.title(\"Residuals Distribution\")\n",
    "plt.show()\n"
   ]
  },
  {
   "cell_type": "code",
   "execution_count": 16,
   "id": "6b0ee026-ff76-416d-93f5-730117de8813",
   "metadata": {},
   "outputs": [
    {
     "data": {
      "image/png": "[encoded data removed]",
      "text/plain": [
       "<Figure size 640x480 with 1 Axes>"
      ]
     },
     "metadata": {},
     "output_type": "display_data"
    }
   ],
   "source": [
    "plt.scatter(y_train_pred, residuals)\n",
    "plt.axhline(0, color='red', linestyle='--')\n",
    "plt.xlabel(\"Predicted Sales\")\n",
    "plt.ylabel(\"Residuals\")\n",
    "plt.title(\"Residuals vs. Predicted Sales\")\n",
    "plt.show()"
   ]
  },
  {
   "cell_type": "code",
   "execution_count": 17,
   "id": "8bf16b6f-e0ed-45b8-965c-6602ae00438c",
   "metadata": {},
   "outputs": [
    {
     "name": "stdout",
     "output_type": "stream",
     "text": [
      "['Store ID', 'Pop class', 'Sales', 'Centre Type', 'Climate', 'Total Store Sq Ft', 'Sales Floor Sq Ft', 'Girls Sq Ft', 'Guys Sq Ft', 'Accessories Sq Ft', 'Guys Segmentation', 'Girls Segmentation', 'ChangeMade', 'ChangeDate', 'Population Est CrYr', 'Transient Pop Est', 'Seasonal Pop Est', 'Sex Males CrYr', 'Sex Females CrYr', 'Age Average CrYr', 'Unemployment Rate', 'Average Household Income CrYr', 'Householder under 25 years:', 'Householder 25 to 44 years:', 'Family Inc: Aggregate Average', 'Per Capita Income CrYr', 'Wealth: Average Household', 'Poverty: In poverty', 'Male 14 to 35 CrYr', 'Female 14 to 35 CrYr', 'Total Pop 14 to 35 CrYr', 'Under 25 Low Income', 'Under 25 Med Income', 'Under 25 High Income', '25 to 44 Low Income', '25 to 44 Med Income', '25 to 44 High Income']\n"
     ]
    }
   ],
   "source": [
    "print(df.columns.tolist())"
   ]
  },
  {
   "cell_type": "code",
   "execution_count": 18,
   "id": "f90cfabf-d7db-44cd-9f0c-2d185598b2bd",
   "metadata": {},
   "outputs": [
    {
     "data": {
      "image/png": "[encoded data removed]",
      "text/plain": [
       "<Figure size 640x480 with 1 Axes>"
      ]
     },
     "metadata": {},
     "output_type": "display_data"
    }
   ],
   "source": [
    "residual_df = df[['Store ID', 'Pop class', 'Centre Type']].copy()\n",
    "residual_df['Residuals'] = y_train - final_model.predict(X_train_sig)\n",
    "sns.boxplot(x='Pop class', y='Residuals', data=residual_df)\n",
    "plt.title(\"Residuals by Population Class\")\n",
    "plt.show()\n"
   ]
  }
 ],
 "metadata": {
  "kernelspec": {
   "display_name": "Python 3 (ipykernel)",
   "language": "python",
   "name": "python3"
  },
  "language_info": {
   "codemirror_mode": {
    "name": "ipython",
    "version": 3
   },
   "file_extension": ".py",
   "mimetype": "text/x-python",
   "name": "python",
   "nbconvert_exporter": "python",
   "pygments_lexer": "ipython3",
   "version": "3.12.3"
  }
 },
 "nbformat": 4,
 "nbformat_minor": 5
}
